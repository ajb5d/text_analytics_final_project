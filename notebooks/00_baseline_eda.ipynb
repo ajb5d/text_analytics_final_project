{
 "cells": [
  {
   "cell_type": "markdown",
   "metadata": {},
   "source": [
    "# Exploration: Simple Corpus Statistics\n",
    "\n",
    "Andrew Barros  \n",
    "DS5001  \n",
    "02 May 20024  \n"
   ]
  },
  {
   "cell_type": "code",
   "execution_count": 1,
   "metadata": {},
   "outputs": [],
   "source": [
    "#!/usr/bin/env python3\n",
    "import pandas as pd\n",
    "import sqlite3\n",
    "import plotly.graph_objects as go\n",
    "from pathlib import Path"
   ]
  },
  {
   "cell_type": "markdown",
   "metadata": {},
   "source": [
    "# Basic Corpus Statistics\n",
    "Load some basic statistics about the articles including the metadata, document lengths, and number of unique terms. "
   ]
  },
  {
   "cell_type": "code",
   "execution_count": 2,
   "metadata": {},
   "outputs": [],
   "source": [
    "DATA_DIR = Path(\"../data\")\n",
    "db = sqlite3.connect(\"../data/corpus_f4.sqlite\")\n",
    "TOKENS = pd.read_sql(\"SELECT COUNT(*) FROM tokens\", db)\n",
    "TERMS = pd.read_sql(\"SELECT COUNT(*) FROM terms\", db)\n",
    "ARTICLE_LENGTHS = pd.read_sql(\"SELECT COUNT(*) FROM tokens GROUP BY title\", db)\n",
    "db.close()\n",
    "\n",
    "ARTICLES = pd.read_parquet(DATA_DIR / \"all_articles.parquet\")\n",
    "CITATIONS = pd.read_parquet(DATA_DIR / \"citation_count.parquet\")\n",
    "ARTICLES = ARTICLES.merge(CITATIONS, left_on=\"pmcid\", right_on=\"pmcid\")"
   ]
  },
  {
   "cell_type": "code",
   "execution_count": 3,
   "metadata": {},
   "outputs": [
    {
     "name": "stdout",
     "output_type": "stream",
     "text": [
      "Total number of articles: 1215\n",
      "Total number of tokens: 4778274\n",
      "Total number of terms: 85538\n",
      "Years covered: 2010 - 2024\n"
     ]
    }
   ],
   "source": [
    "print(\"Total number of articles:\", len(ARTICLES))\n",
    "print(\"Total number of tokens:\", TOKENS.iloc[0, 0])\n",
    "print(\"Total number of terms:\", TERMS.iloc[0, 0])\n",
    "print(f\"Years covered: {ARTICLES['pubyear'].min()} - {ARTICLES['pubyear'].max()}\")"
   ]
  },
  {
   "cell_type": "markdown",
   "metadata": {},
   "source": [
    "Interpretation:\n",
    "* We have a moderate corpus (~5M words) from 1.2k articles over a 13.5 year span"
   ]
  },
  {
   "cell_type": "markdown",
   "metadata": {},
   "source": [
    "# General Trends\n",
    "\n",
    "Create some basic figures for articles by year, distribution of article lengths, and distribution of citation counts"
   ]
  },
  {
   "cell_type": "code",
   "execution_count": 4,
   "metadata": {},
   "outputs": [
    {
     "data": {
      "application/vnd.plotly.v1+json": {
       "config": {
        "plotlyServerURL": "https://plot.ly"
       },
       "data": [
        {
         "mode": "lines+markers",
         "type": "scatter",
         "x": [
          2010,
          2011,
          2012,
          2013,
          2014,
          2015,
          2016,
          2017,
          2018,
          2019,
          2020,
          2021,
          2022,
          2023,
          2024
         ],
         "y": [
          3,
          24,
          49,
          60,
          46,
          33,
          32,
          33,
          89,
          121,
          156,
          198,
          171,
          178,
          22
         ]
        }
       ],
       "layout": {
        "height": 800,
        "template": {
         "data": {
          "bar": [
           {
            "error_x": {
             "color": "rgb(36,36,36)"
            },
            "error_y": {
             "color": "rgb(36,36,36)"
            },
            "marker": {
             "line": {
              "color": "white",
              "width": 0.5
             },
             "pattern": {
              "fillmode": "overlay",
              "size": 10,
              "solidity": 0.2
             }
            },
            "type": "bar"
           }
          ],
          "barpolar": [
           {
            "marker": {
             "line": {
              "color": "white",
              "width": 0.5
             },
             "pattern": {
              "fillmode": "overlay",
              "size": 10,
              "solidity": 0.2
             }
            },
            "type": "barpolar"
           }
          ],
          "carpet": [
           {
            "aaxis": {
             "endlinecolor": "rgb(36,36,36)",
             "gridcolor": "white",
             "linecolor": "white",
             "minorgridcolor": "white",
             "startlinecolor": "rgb(36,36,36)"
            },
            "baxis": {
             "endlinecolor": "rgb(36,36,36)",
             "gridcolor": "white",
             "linecolor": "white",
             "minorgridcolor": "white",
             "startlinecolor": "rgb(36,36,36)"
            },
            "type": "carpet"
           }
          ],
          "choropleth": [
           {
            "colorbar": {
             "outlinewidth": 1,
             "tickcolor": "rgb(36,36,36)",
             "ticks": "outside"
            },
            "type": "choropleth"
           }
          ],
          "contour": [
           {
            "colorbar": {
             "outlinewidth": 1,
             "tickcolor": "rgb(36,36,36)",
             "ticks": "outside"
            },
            "colorscale": [
             [
              0,
              "#440154"
             ],
             [
              0.1111111111111111,
              "#482878"
             ],
             [
              0.2222222222222222,
              "#3e4989"
             ],
             [
              0.3333333333333333,
              "#31688e"
             ],
             [
              0.4444444444444444,
              "#26828e"
             ],
             [
              0.5555555555555556,
              "#1f9e89"
             ],
             [
              0.6666666666666666,
              "#35b779"
             ],
             [
              0.7777777777777778,
              "#6ece58"
             ],
             [
              0.8888888888888888,
              "#b5de2b"
             ],
             [
              1,
              "#fde725"
             ]
            ],
            "type": "contour"
           }
          ],
          "contourcarpet": [
           {
            "colorbar": {
             "outlinewidth": 1,
             "tickcolor": "rgb(36,36,36)",
             "ticks": "outside"
            },
            "type": "contourcarpet"
           }
          ],
          "heatmap": [
           {
            "colorbar": {
             "outlinewidth": 1,
             "tickcolor": "rgb(36,36,36)",
             "ticks": "outside"
            },
            "colorscale": [
             [
              0,
              "#440154"
             ],
             [
              0.1111111111111111,
              "#482878"
             ],
             [
              0.2222222222222222,
              "#3e4989"
             ],
             [
              0.3333333333333333,
              "#31688e"
             ],
             [
              0.4444444444444444,
              "#26828e"
             ],
             [
              0.5555555555555556,
              "#1f9e89"
             ],
             [
              0.6666666666666666,
              "#35b779"
             ],
             [
              0.7777777777777778,
              "#6ece58"
             ],
             [
              0.8888888888888888,
              "#b5de2b"
             ],
             [
              1,
              "#fde725"
             ]
            ],
            "type": "heatmap"
           }
          ],
          "heatmapgl": [
           {
            "colorbar": {
             "outlinewidth": 1,
             "tickcolor": "rgb(36,36,36)",
             "ticks": "outside"
            },
            "colorscale": [
             [
              0,
              "#440154"
             ],
             [
              0.1111111111111111,
              "#482878"
             ],
             [
              0.2222222222222222,
              "#3e4989"
             ],
             [
              0.3333333333333333,
              "#31688e"
             ],
             [
              0.4444444444444444,
              "#26828e"
             ],
             [
              0.5555555555555556,
              "#1f9e89"
             ],
             [
              0.6666666666666666,
              "#35b779"
             ],
             [
              0.7777777777777778,
              "#6ece58"
             ],
             [
              0.8888888888888888,
              "#b5de2b"
             ],
             [
              1,
              "#fde725"
             ]
            ],
            "type": "heatmapgl"
           }
          ],
          "histogram": [
           {
            "marker": {
             "line": {
              "color": "white",
              "width": 0.6
             }
            },
            "type": "histogram"
           }
          ],
          "histogram2d": [
           {
            "colorbar": {
             "outlinewidth": 1,
             "tickcolor": "rgb(36,36,36)",
             "ticks": "outside"
            },
            "colorscale": [
             [
              0,
              "#440154"
             ],
             [
              0.1111111111111111,
              "#482878"
             ],
             [
              0.2222222222222222,
              "#3e4989"
             ],
             [
              0.3333333333333333,
              "#31688e"
             ],
             [
              0.4444444444444444,
              "#26828e"
             ],
             [
              0.5555555555555556,
              "#1f9e89"
             ],
             [
              0.6666666666666666,
              "#35b779"
             ],
             [
              0.7777777777777778,
              "#6ece58"
             ],
             [
              0.8888888888888888,
              "#b5de2b"
             ],
             [
              1,
              "#fde725"
             ]
            ],
            "type": "histogram2d"
           }
          ],
          "histogram2dcontour": [
           {
            "colorbar": {
             "outlinewidth": 1,
             "tickcolor": "rgb(36,36,36)",
             "ticks": "outside"
            },
            "colorscale": [
             [
              0,
              "#440154"
             ],
             [
              0.1111111111111111,
              "#482878"
             ],
             [
              0.2222222222222222,
              "#3e4989"
             ],
             [
              0.3333333333333333,
              "#31688e"
             ],
             [
              0.4444444444444444,
              "#26828e"
             ],
             [
              0.5555555555555556,
              "#1f9e89"
             ],
             [
              0.6666666666666666,
              "#35b779"
             ],
             [
              0.7777777777777778,
              "#6ece58"
             ],
             [
              0.8888888888888888,
              "#b5de2b"
             ],
             [
              1,
              "#fde725"
             ]
            ],
            "type": "histogram2dcontour"
           }
          ],
          "mesh3d": [
           {
            "colorbar": {
             "outlinewidth": 1,
             "tickcolor": "rgb(36,36,36)",
             "ticks": "outside"
            },
            "type": "mesh3d"
           }
          ],
          "parcoords": [
           {
            "line": {
             "colorbar": {
              "outlinewidth": 1,
              "tickcolor": "rgb(36,36,36)",
              "ticks": "outside"
             }
            },
            "type": "parcoords"
           }
          ],
          "pie": [
           {
            "automargin": true,
            "type": "pie"
           }
          ],
          "scatter": [
           {
            "fillpattern": {
             "fillmode": "overlay",
             "size": 10,
             "solidity": 0.2
            },
            "type": "scatter"
           }
          ],
          "scatter3d": [
           {
            "line": {
             "colorbar": {
              "outlinewidth": 1,
              "tickcolor": "rgb(36,36,36)",
              "ticks": "outside"
             }
            },
            "marker": {
             "colorbar": {
              "outlinewidth": 1,
              "tickcolor": "rgb(36,36,36)",
              "ticks": "outside"
             }
            },
            "type": "scatter3d"
           }
          ],
          "scattercarpet": [
           {
            "marker": {
             "colorbar": {
              "outlinewidth": 1,
              "tickcolor": "rgb(36,36,36)",
              "ticks": "outside"
             }
            },
            "type": "scattercarpet"
           }
          ],
          "scattergeo": [
           {
            "marker": {
             "colorbar": {
              "outlinewidth": 1,
              "tickcolor": "rgb(36,36,36)",
              "ticks": "outside"
             }
            },
            "type": "scattergeo"
           }
          ],
          "scattergl": [
           {
            "marker": {
             "colorbar": {
              "outlinewidth": 1,
              "tickcolor": "rgb(36,36,36)",
              "ticks": "outside"
             }
            },
            "type": "scattergl"
           }
          ],
          "scattermapbox": [
           {
            "marker": {
             "colorbar": {
              "outlinewidth": 1,
              "tickcolor": "rgb(36,36,36)",
              "ticks": "outside"
             }
            },
            "type": "scattermapbox"
           }
          ],
          "scatterpolar": [
           {
            "marker": {
             "colorbar": {
              "outlinewidth": 1,
              "tickcolor": "rgb(36,36,36)",
              "ticks": "outside"
             }
            },
            "type": "scatterpolar"
           }
          ],
          "scatterpolargl": [
           {
            "marker": {
             "colorbar": {
              "outlinewidth": 1,
              "tickcolor": "rgb(36,36,36)",
              "ticks": "outside"
             }
            },
            "type": "scatterpolargl"
           }
          ],
          "scatterternary": [
           {
            "marker": {
             "colorbar": {
              "outlinewidth": 1,
              "tickcolor": "rgb(36,36,36)",
              "ticks": "outside"
             }
            },
            "type": "scatterternary"
           }
          ],
          "surface": [
           {
            "colorbar": {
             "outlinewidth": 1,
             "tickcolor": "rgb(36,36,36)",
             "ticks": "outside"
            },
            "colorscale": [
             [
              0,
              "#440154"
             ],
             [
              0.1111111111111111,
              "#482878"
             ],
             [
              0.2222222222222222,
              "#3e4989"
             ],
             [
              0.3333333333333333,
              "#31688e"
             ],
             [
              0.4444444444444444,
              "#26828e"
             ],
             [
              0.5555555555555556,
              "#1f9e89"
             ],
             [
              0.6666666666666666,
              "#35b779"
             ],
             [
              0.7777777777777778,
              "#6ece58"
             ],
             [
              0.8888888888888888,
              "#b5de2b"
             ],
             [
              1,
              "#fde725"
             ]
            ],
            "type": "surface"
           }
          ],
          "table": [
           {
            "cells": {
             "fill": {
              "color": "rgb(237,237,237)"
             },
             "line": {
              "color": "white"
             }
            },
            "header": {
             "fill": {
              "color": "rgb(217,217,217)"
             },
             "line": {
              "color": "white"
             }
            },
            "type": "table"
           }
          ]
         },
         "layout": {
          "annotationdefaults": {
           "arrowhead": 0,
           "arrowwidth": 1
          },
          "autotypenumbers": "strict",
          "coloraxis": {
           "colorbar": {
            "outlinewidth": 1,
            "tickcolor": "rgb(36,36,36)",
            "ticks": "outside"
           }
          },
          "colorscale": {
           "diverging": [
            [
             0,
             "rgb(103,0,31)"
            ],
            [
             0.1,
             "rgb(178,24,43)"
            ],
            [
             0.2,
             "rgb(214,96,77)"
            ],
            [
             0.3,
             "rgb(244,165,130)"
            ],
            [
             0.4,
             "rgb(253,219,199)"
            ],
            [
             0.5,
             "rgb(247,247,247)"
            ],
            [
             0.6,
             "rgb(209,229,240)"
            ],
            [
             0.7,
             "rgb(146,197,222)"
            ],
            [
             0.8,
             "rgb(67,147,195)"
            ],
            [
             0.9,
             "rgb(33,102,172)"
            ],
            [
             1,
             "rgb(5,48,97)"
            ]
           ],
           "sequential": [
            [
             0,
             "#440154"
            ],
            [
             0.1111111111111111,
             "#482878"
            ],
            [
             0.2222222222222222,
             "#3e4989"
            ],
            [
             0.3333333333333333,
             "#31688e"
            ],
            [
             0.4444444444444444,
             "#26828e"
            ],
            [
             0.5555555555555556,
             "#1f9e89"
            ],
            [
             0.6666666666666666,
             "#35b779"
            ],
            [
             0.7777777777777778,
             "#6ece58"
            ],
            [
             0.8888888888888888,
             "#b5de2b"
            ],
            [
             1,
             "#fde725"
            ]
           ],
           "sequentialminus": [
            [
             0,
             "#440154"
            ],
            [
             0.1111111111111111,
             "#482878"
            ],
            [
             0.2222222222222222,
             "#3e4989"
            ],
            [
             0.3333333333333333,
             "#31688e"
            ],
            [
             0.4444444444444444,
             "#26828e"
            ],
            [
             0.5555555555555556,
             "#1f9e89"
            ],
            [
             0.6666666666666666,
             "#35b779"
            ],
            [
             0.7777777777777778,
             "#6ece58"
            ],
            [
             0.8888888888888888,
             "#b5de2b"
            ],
            [
             1,
             "#fde725"
            ]
           ]
          },
          "colorway": [
           "#1F77B4",
           "#FF7F0E",
           "#2CA02C",
           "#D62728",
           "#9467BD",
           "#8C564B",
           "#E377C2",
           "#7F7F7F",
           "#BCBD22",
           "#17BECF"
          ],
          "font": {
           "color": "rgb(36,36,36)"
          },
          "geo": {
           "bgcolor": "white",
           "lakecolor": "white",
           "landcolor": "white",
           "showlakes": true,
           "showland": true,
           "subunitcolor": "white"
          },
          "hoverlabel": {
           "align": "left"
          },
          "hovermode": "closest",
          "mapbox": {
           "style": "light"
          },
          "paper_bgcolor": "white",
          "plot_bgcolor": "white",
          "polar": {
           "angularaxis": {
            "gridcolor": "rgb(232,232,232)",
            "linecolor": "rgb(36,36,36)",
            "showgrid": false,
            "showline": true,
            "ticks": "outside"
           },
           "bgcolor": "white",
           "radialaxis": {
            "gridcolor": "rgb(232,232,232)",
            "linecolor": "rgb(36,36,36)",
            "showgrid": false,
            "showline": true,
            "ticks": "outside"
           }
          },
          "scene": {
           "xaxis": {
            "backgroundcolor": "white",
            "gridcolor": "rgb(232,232,232)",
            "gridwidth": 2,
            "linecolor": "rgb(36,36,36)",
            "showbackground": true,
            "showgrid": false,
            "showline": true,
            "ticks": "outside",
            "zeroline": false,
            "zerolinecolor": "rgb(36,36,36)"
           },
           "yaxis": {
            "backgroundcolor": "white",
            "gridcolor": "rgb(232,232,232)",
            "gridwidth": 2,
            "linecolor": "rgb(36,36,36)",
            "showbackground": true,
            "showgrid": false,
            "showline": true,
            "ticks": "outside",
            "zeroline": false,
            "zerolinecolor": "rgb(36,36,36)"
           },
           "zaxis": {
            "backgroundcolor": "white",
            "gridcolor": "rgb(232,232,232)",
            "gridwidth": 2,
            "linecolor": "rgb(36,36,36)",
            "showbackground": true,
            "showgrid": false,
            "showline": true,
            "ticks": "outside",
            "zeroline": false,
            "zerolinecolor": "rgb(36,36,36)"
           }
          },
          "shapedefaults": {
           "fillcolor": "black",
           "line": {
            "width": 0
           },
           "opacity": 0.3
          },
          "ternary": {
           "aaxis": {
            "gridcolor": "rgb(232,232,232)",
            "linecolor": "rgb(36,36,36)",
            "showgrid": false,
            "showline": true,
            "ticks": "outside"
           },
           "baxis": {
            "gridcolor": "rgb(232,232,232)",
            "linecolor": "rgb(36,36,36)",
            "showgrid": false,
            "showline": true,
            "ticks": "outside"
           },
           "bgcolor": "white",
           "caxis": {
            "gridcolor": "rgb(232,232,232)",
            "linecolor": "rgb(36,36,36)",
            "showgrid": false,
            "showline": true,
            "ticks": "outside"
           }
          },
          "title": {
           "x": 0.05
          },
          "xaxis": {
           "automargin": true,
           "gridcolor": "rgb(232,232,232)",
           "linecolor": "rgb(36,36,36)",
           "showgrid": false,
           "showline": true,
           "ticks": "outside",
           "title": {
            "standoff": 15
           },
           "zeroline": false,
           "zerolinecolor": "rgb(36,36,36)"
          },
          "yaxis": {
           "automargin": true,
           "gridcolor": "rgb(232,232,232)",
           "linecolor": "rgb(36,36,36)",
           "showgrid": false,
           "showline": true,
           "ticks": "outside",
           "title": {
            "standoff": 15
           },
           "zeroline": false,
           "zerolinecolor": "rgb(36,36,36)"
          }
         }
        },
        "title": {
         "text": "Number of articles per year"
        },
        "width": 800,
        "xaxis": {
         "title": {
          "text": "Year"
         }
        },
        "yaxis": {
         "title": {
          "text": "Number of articles"
         }
        }
       }
      }
     },
     "metadata": {},
     "output_type": "display_data"
    }
   ],
   "source": [
    "articles_per_year = ARTICLES.groupby(\"pubyear\").size()\n",
    "fig = go.Figure(\n",
    "    data=go.Scatter(\n",
    "        x=articles_per_year.index,\n",
    "        y=articles_per_year.values,\n",
    "        mode=\"lines+markers\")\n",
    ")\n",
    "\n",
    "fig.update_layout(\n",
    "    width=800,\n",
    "    height=800,\n",
    "    template=\"simple_white\",\n",
    "    title=\"Number of articles per year\",\n",
    "    xaxis_title=\"Year\",\n",
    "    yaxis_title=\"Number of articles\"\n",
    ")\n",
    "\n",
    "fig.show()\n",
    "fig.write_image(\"articles_by_year.png\")"
   ]
  },
  {
   "cell_type": "markdown",
   "metadata": {},
   "source": [
    "Interpretation:\n",
    "* Article volume has increased over time\n",
    "* There are very few articles in 2010 (the first year of PMC submission for our two journals) and 2024 (year currently in progress and academic publishing is _slow_)\n",
    "* There were the most OA articles in 2020. This could be a COVID related increase in all articles published or perhaps just more OA articles"
   ]
  },
  {
   "cell_type": "code",
   "execution_count": 5,
   "metadata": {},
   "outputs": [
    {
     "data": {
      "application/vnd.plotly.v1+json": {
       "config": {
        "plotlyServerURL": "https://plot.ly"
       },
       "data": [
        {
         "nbinsx": 100,
         "type": "histogram",
         "x": [
          3857,
          4908,
          4335,
          4254,
          4974,
          4297,
          4912,
          4897,
          2520,
          4357,
          2153,
          4976,
          4459,
          2257,
          4704,
          3574,
          3005,
          4649,
          120,
          5471,
          7036,
          4212,
          3370,
          4761,
          5631,
          4806,
          4452,
          4604,
          2869,
          1760,
          4921,
          2474,
          4662,
          4705,
          5217,
          6334,
          4072,
          4336,
          2229,
          2508,
          3104,
          3338,
          3087,
          130,
          3911,
          1620,
          3340,
          4250,
          4388,
          5203,
          2394,
          5772,
          5523,
          4094,
          4448,
          2744,
          3769,
          2283,
          2386,
          3464,
          5541,
          3242,
          3702,
          3350,
          141,
          5187,
          5306,
          4501,
          3085,
          3998,
          3447,
          4315,
          4370,
          1820,
          4496,
          4452,
          1874,
          6626,
          4111,
          3629,
          4134,
          1579,
          4769,
          2840,
          2584,
          3118,
          5477,
          2322,
          2415,
          3532,
          4480,
          3101,
          3705,
          4275,
          3396,
          3504,
          3716,
          4262,
          3479,
          2547,
          5629,
          6068,
          3481,
          4472,
          5209,
          1770,
          5700,
          4808,
          4171,
          4226,
          4166,
          1325,
          2608,
          3497,
          4426,
          2215,
          5223,
          4503,
          5073,
          4900,
          5606,
          5895,
          5085,
          4702,
          2953,
          2306,
          4519,
          3581,
          2645,
          2373,
          3847,
          1961,
          4302,
          4860,
          6120,
          1325,
          4998,
          5562,
          4635,
          6656,
          5015,
          4237,
          3964,
          2929,
          2370,
          3997,
          5366,
          2889,
          5062,
          4524,
          5304,
          5416,
          5262,
          3565,
          4878,
          5504,
          2970,
          3859,
          3888,
          2095,
          2677,
          4621,
          2156,
          2058,
          4635,
          4941,
          4136,
          6395,
          2122,
          4808,
          5593,
          6139,
          1283,
          4558,
          3306,
          4272,
          5454,
          6304,
          4441,
          5397,
          4000,
          5395,
          2032,
          5391,
          4300,
          5589,
          5522,
          2230,
          5970,
          4597,
          3783,
          5905,
          1312,
          3755,
          2377,
          5238,
          4368,
          3309,
          7262,
          3891,
          6545,
          2461,
          3944,
          6458,
          5858,
          3424,
          3405,
          3247,
          6515,
          2420,
          4643,
          4809,
          2982,
          4506,
          3774,
          4565,
          3336,
          4310,
          3999,
          2330,
          5428,
          4297,
          4438,
          5892,
          5047,
          3875,
          4026,
          4734,
          4451,
          2751,
          1834,
          5570,
          4314,
          946,
          4266,
          2453,
          4161,
          4616,
          2191,
          4033,
          3306,
          5220,
          4345,
          4257,
          4466,
          4600,
          4371,
          3037,
          2321,
          5257,
          4919,
          4403,
          4286,
          4140,
          3916,
          3738,
          4605,
          3300,
          5256,
          4557,
          4442,
          3497,
          4688,
          5141,
          2464,
          3379,
          4793,
          4175,
          4006,
          6453,
          4226,
          5230,
          4602,
          4719,
          5935,
          5313,
          4684,
          4460,
          4796,
          4757,
          4286,
          5518,
          4341,
          5289,
          2952,
          4421,
          4559,
          3435,
          2851,
          2999,
          5272,
          1102,
          2434,
          4243,
          5811,
          2742,
          4429,
          6786,
          6171,
          2321,
          2559,
          5537,
          4400,
          3490,
          3712,
          4484,
          3515,
          3160,
          4810,
          7331,
          3522,
          4829,
          3569,
          3767,
          4499,
          4297,
          2226,
          3491,
          2360,
          2206,
          2264,
          2679,
          2328,
          2187,
          2332,
          2961,
          2458,
          2128,
          1963,
          2198,
          2403,
          1340,
          4071,
          4417,
          3490,
          3071,
          5072,
          4515,
          2918,
          4010,
          2291,
          5732,
          4486,
          2370,
          5609,
          4820,
          4949,
          1800,
          5242,
          4381,
          5166,
          4972,
          5234,
          4145,
          3218,
          4317,
          5669,
          4518,
          4518,
          2718,
          4657,
          3770,
          4747,
          4515,
          4657,
          4907,
          2593,
          4891,
          5576,
          4736,
          8722,
          3773,
          4733,
          1170,
          4165,
          2355,
          4257,
          2730,
          5076,
          5088,
          4631,
          6074,
          5116,
          4403,
          3938,
          5239,
          4532,
          5150,
          2240,
          3008,
          2388,
          1999,
          4811,
          4879,
          4252,
          5290,
          5081,
          4819,
          4945,
          4914,
          4576,
          4788,
          5539,
          5364,
          4490,
          2172,
          3076,
          2180,
          3877,
          3757,
          4410,
          5135,
          3390,
          3840,
          3854,
          3720,
          3644,
          4529,
          2481,
          3709,
          4274,
          4462,
          4519,
          4796,
          3371,
          3994,
          2508,
          3902,
          2823,
          4634,
          5421,
          3769,
          4286,
          4758,
          4563,
          3846,
          4784,
          4598,
          4969,
          3864,
          5211,
          5786,
          3534,
          5742,
          4539,
          4259,
          4561,
          6042,
          4425,
          4710,
          4419,
          4468,
          4900,
          5145,
          5005,
          2051,
          5391,
          2665,
          3932,
          4923,
          5700,
          2854,
          3120,
          2417,
          4605,
          4902,
          2411,
          4490,
          4868,
          5561,
          3430,
          4594,
          2594,
          4773,
          4387,
          2327,
          6711,
          4111,
          4570,
          2173,
          3741,
          2416,
          4701,
          6584,
          4533,
          2944,
          3783,
          4266,
          3896,
          5796,
          2990,
          4592,
          4719,
          2430,
          4958,
          4738,
          4537,
          2004,
          5523,
          4631,
          2849,
          4902,
          6293,
          2408,
          5570,
          6056,
          4808,
          2286,
          4193,
          4765,
          4060,
          3678,
          4329,
          4669,
          4922,
          5280,
          1723,
          4634,
          4512,
          4307,
          6794,
          2746,
          2267,
          2324,
          2333,
          5230,
          2173,
          782,
          6293,
          4962,
          7876,
          4809,
          4795,
          4701,
          4632,
          5379,
          5040,
          4932,
          3432,
          4234,
          3958,
          3991,
          652,
          3852,
          3390,
          2301,
          4568,
          2761,
          2608,
          3659,
          2713,
          355,
          4180,
          4139,
          1961,
          2407,
          5000,
          4525,
          2377,
          2060,
          2328,
          4794,
          4662,
          4138,
          4612,
          784,
          2413,
          2385,
          486,
          4684,
          3691,
          3348,
          5427,
          3976,
          4605,
          3978,
          2768,
          5549,
          2652,
          3171,
          3338,
          5637,
          4024,
          2800,
          4170,
          2188,
          736,
          2996,
          2895,
          3508,
          3598,
          5617,
          5048,
          4508,
          6530,
          457,
          2533,
          4279,
          1179,
          4460,
          3041,
          4214,
          1716,
          3133,
          4933,
          4475,
          3469,
          4379,
          2581,
          4482,
          3709,
          5115,
          4019,
          4921,
          2398,
          4403,
          4677,
          4773,
          2882,
          3205,
          4716,
          5534,
          4230,
          4404,
          4318,
          5274,
          2543,
          4501,
          1632,
          4370,
          6373,
          4360,
          2598,
          3324,
          4314,
          3253,
          6245,
          5939,
          3011,
          426,
          3570,
          4374,
          4747,
          4001,
          3865,
          5386,
          5567,
          2490,
          5915,
          4887,
          6293,
          3988,
          4967,
          5740,
          3110,
          4635,
          4649,
          4264,
          4018,
          3304,
          4166,
          2581,
          4789,
          3297,
          4785,
          2599,
          2433,
          4673,
          2771,
          2391,
          5045,
          3873,
          2756,
          4809,
          4675,
          4753,
          4746,
          4496,
          4432,
          4000,
          4160,
          5223,
          3536,
          1669,
          5099,
          5654,
          2644,
          4892,
          2056,
          2267,
          496,
          2034,
          2349,
          4015,
          3369,
          6157,
          5007,
          4152,
          5200,
          2938,
          3640,
          5332,
          2426,
          1156,
          2433,
          4180,
          9823,
          4566,
          3045,
          2453,
          4606,
          5033,
          5106,
          4464,
          4759,
          4906,
          3242,
          2249,
          4706,
          2268,
          2547,
          4727,
          4906,
          4529,
          4716,
          4937,
          5953,
          2453,
          3842,
          4749,
          5412,
          4192,
          4394,
          4488,
          5492,
          4539,
          4933,
          4507,
          3957,
          5273,
          4269,
          4334,
          3988,
          815,
          4671,
          4712,
          4583,
          2955,
          4645,
          4563,
          2341,
          2006,
          2761,
          5326,
          4639,
          4087,
          1858,
          5159,
          3208,
          2270,
          4239,
          4482,
          4100,
          4504,
          5330,
          4778,
          4659,
          4261,
          2291,
          2545,
          2216,
          8156,
          4761,
          4509,
          4695,
          5323,
          5365,
          1550,
          4502,
          5885,
          4939,
          4401,
          3476,
          4700,
          4739,
          2897,
          931,
          5644,
          63,
          2562,
          4642,
          5177,
          2586,
          5816,
          5586,
          5972,
          5860,
          2607,
          4339,
          2583,
          3056,
          4583,
          4858,
          3882,
          4279,
          2228,
          2063,
          3368,
          4573,
          4799,
          2420,
          5061,
          5526,
          2255,
          4456,
          5033,
          3325,
          4582,
          3048,
          5366,
          5719,
          2401,
          3096,
          2070,
          3736,
          4444,
          4173,
          6474,
          1818,
          2253,
          4405,
          2426,
          5028,
          4935,
          3676,
          4610,
          698,
          3696,
          4401,
          4504,
          5695,
          4804,
          3658,
          4623,
          3159,
          4693,
          4369,
          2556,
          2423,
          5171,
          2715,
          5498,
          2968,
          5569,
          2431,
          2083,
          2502,
          4980,
          4366,
          4803,
          4737,
          4675,
          3157,
          6382,
          4300,
          2536,
          4675,
          4779,
          3055,
          4244,
          4607,
          3395,
          4324,
          4661,
          62,
          4497,
          6044,
          4326,
          4009,
          3395,
          4326,
          4586,
          4338,
          4811,
          3313,
          2591,
          4949,
          2492,
          5754,
          3825,
          4943,
          4234,
          2869,
          2506,
          5022,
          3342,
          3770,
          4579,
          2359,
          5542,
          2339,
          2746,
          4960,
          4126,
          4365,
          4025,
          2401,
          4127,
          4704,
          4332,
          5486,
          4888,
          4386,
          5104,
          5522,
          3680,
          2653,
          3895,
          2341,
          1562,
          2159,
          2864,
          4492,
          3751,
          4907,
          2172,
          3278,
          2343,
          5233,
          4499,
          1562,
          5274,
          3902,
          3796,
          4024,
          5491,
          5192,
          5020,
          4590,
          44,
          5205,
          2334,
          5022,
          2679,
          4986,
          4062,
          4261,
          2167,
          4966,
          2876,
          6129,
          1921,
          4709,
          5423,
          4572,
          5176,
          3439,
          3418,
          4823,
          2376,
          2696,
          2090,
          5897,
          5282,
          2899,
          2476,
          2480,
          5895,
          4937,
          7312,
          2339,
          3300,
          2474,
          2265,
          3425,
          1349,
          4333,
          4478,
          2417,
          4232,
          2462,
          2857,
          5362,
          2772,
          2274,
          2973,
          2169,
          80,
          4674,
          5124,
          3312,
          5182,
          6920,
          4902,
          4721,
          4807,
          110,
          157,
          4823,
          6589,
          2612,
          7907,
          2682,
          227,
          6027,
          5434,
          5257,
          2186,
          4413,
          3021,
          2333,
          4284,
          4673,
          4787,
          2288,
          2615,
          4248,
          4439,
          5039,
          4947,
          4620,
          93,
          1845,
          5987,
          3373,
          2453,
          4854,
          4199,
          2361,
          4043,
          4556,
          2368,
          2605,
          4412,
          4092,
          4032,
          5686,
          4472,
          4871,
          5744,
          2689,
          4617,
          4768,
          4879,
          4354,
          3527,
          4672,
          2166,
          3491,
          2125,
          4244,
          4519,
          5152,
          4588,
          2784,
          5486,
          4383,
          4386,
          4354,
          3933,
          5778,
          4832,
          5364,
          2974,
          4868,
          5142,
          4063,
          2973,
          4345,
          2585,
          2229,
          3047,
          3039,
          4639,
          2516,
          4379,
          5810,
          4837,
          5197,
          1772,
          3934,
          4381,
          4892,
          4292,
          4223,
          5719,
          5335,
          5313,
          5477,
          4171,
          2275,
          3285,
          4501,
          4897,
          2257,
          3956,
          6058,
          3711,
          3792,
          4605,
          4754,
          128,
          4469,
          3149,
          4330,
          3161,
          4131,
          65,
          4525,
          2915,
          2790,
          2586,
          6159,
          3951,
          4631,
          4211,
          107,
          141,
          3437,
          1362,
          4480,
          6294,
          3507,
          4248,
          4653,
          5528,
          3981,
          3878,
          4676,
          3541,
          2488,
          4395,
          4689,
          2996,
          4159,
          1140,
          1866,
          5754,
          2741,
          5650,
          4323,
          4236,
          4218,
          3691,
          96,
          2004,
          2695,
          4415,
          5105,
          1254,
          4246,
          2316,
          4907,
          3770,
          2369,
          2322,
          2913,
          5221,
          3300,
          1181,
          5137,
          220,
          2553,
          590,
          5600,
          100,
          4158,
          4547,
          2254,
          3367,
          4542,
          4394,
          5503,
          2201,
          4724,
          3638,
          2585,
          229,
          4943,
          4495,
          4502,
          3927,
          4688,
          5096,
          4519,
          82,
          7109,
          5599,
          3705,
          2903,
          3949,
          4848,
          4321,
          4136,
          4533,
          4391,
          4766,
          4410,
          4812,
          4604,
          4491,
          2149,
          4765,
          5021,
          2877
         ]
        }
       ],
       "layout": {
        "annotations": [
         {
          "showarrow": false,
          "text": "Mean: 3965",
          "x": 3965.3726141078837,
          "xanchor": "left",
          "xref": "x",
          "y": 1,
          "yanchor": "top",
          "yref": "y domain"
         }
        ],
        "height": 400,
        "shapes": [
         {
          "line": {
           "color": "red",
           "dash": "dash",
           "width": 4
          },
          "type": "line",
          "x0": 3965.3726141078837,
          "x1": 3965.3726141078837,
          "xref": "x",
          "y0": 0,
          "y1": 1,
          "yref": "y domain"
         }
        ],
        "template": {
         "data": {
          "bar": [
           {
            "error_x": {
             "color": "rgb(36,36,36)"
            },
            "error_y": {
             "color": "rgb(36,36,36)"
            },
            "marker": {
             "line": {
              "color": "white",
              "width": 0.5
             },
             "pattern": {
              "fillmode": "overlay",
              "size": 10,
              "solidity": 0.2
             }
            },
            "type": "bar"
           }
          ],
          "barpolar": [
           {
            "marker": {
             "line": {
              "color": "white",
              "width": 0.5
             },
             "pattern": {
              "fillmode": "overlay",
              "size": 10,
              "solidity": 0.2
             }
            },
            "type": "barpolar"
           }
          ],
          "carpet": [
           {
            "aaxis": {
             "endlinecolor": "rgb(36,36,36)",
             "gridcolor": "white",
             "linecolor": "white",
             "minorgridcolor": "white",
             "startlinecolor": "rgb(36,36,36)"
            },
            "baxis": {
             "endlinecolor": "rgb(36,36,36)",
             "gridcolor": "white",
             "linecolor": "white",
             "minorgridcolor": "white",
             "startlinecolor": "rgb(36,36,36)"
            },
            "type": "carpet"
           }
          ],
          "choropleth": [
           {
            "colorbar": {
             "outlinewidth": 1,
             "tickcolor": "rgb(36,36,36)",
             "ticks": "outside"
            },
            "type": "choropleth"
           }
          ],
          "contour": [
           {
            "colorbar": {
             "outlinewidth": 1,
             "tickcolor": "rgb(36,36,36)",
             "ticks": "outside"
            },
            "colorscale": [
             [
              0,
              "#440154"
             ],
             [
              0.1111111111111111,
              "#482878"
             ],
             [
              0.2222222222222222,
              "#3e4989"
             ],
             [
              0.3333333333333333,
              "#31688e"
             ],
             [
              0.4444444444444444,
              "#26828e"
             ],
             [
              0.5555555555555556,
              "#1f9e89"
             ],
             [
              0.6666666666666666,
              "#35b779"
             ],
             [
              0.7777777777777778,
              "#6ece58"
             ],
             [
              0.8888888888888888,
              "#b5de2b"
             ],
             [
              1,
              "#fde725"
             ]
            ],
            "type": "contour"
           }
          ],
          "contourcarpet": [
           {
            "colorbar": {
             "outlinewidth": 1,
             "tickcolor": "rgb(36,36,36)",
             "ticks": "outside"
            },
            "type": "contourcarpet"
           }
          ],
          "heatmap": [
           {
            "colorbar": {
             "outlinewidth": 1,
             "tickcolor": "rgb(36,36,36)",
             "ticks": "outside"
            },
            "colorscale": [
             [
              0,
              "#440154"
             ],
             [
              0.1111111111111111,
              "#482878"
             ],
             [
              0.2222222222222222,
              "#3e4989"
             ],
             [
              0.3333333333333333,
              "#31688e"
             ],
             [
              0.4444444444444444,
              "#26828e"
             ],
             [
              0.5555555555555556,
              "#1f9e89"
             ],
             [
              0.6666666666666666,
              "#35b779"
             ],
             [
              0.7777777777777778,
              "#6ece58"
             ],
             [
              0.8888888888888888,
              "#b5de2b"
             ],
             [
              1,
              "#fde725"
             ]
            ],
            "type": "heatmap"
           }
          ],
          "heatmapgl": [
           {
            "colorbar": {
             "outlinewidth": 1,
             "tickcolor": "rgb(36,36,36)",
             "ticks": "outside"
            },
            "colorscale": [
             [
              0,
              "#440154"
             ],
             [
              0.1111111111111111,
              "#482878"
             ],
             [
              0.2222222222222222,
              "#3e4989"
             ],
             [
              0.3333333333333333,
              "#31688e"
             ],
             [
              0.4444444444444444,
              "#26828e"
             ],
             [
              0.5555555555555556,
              "#1f9e89"
             ],
             [
              0.6666666666666666,
              "#35b779"
             ],
             [
              0.7777777777777778,
              "#6ece58"
             ],
             [
              0.8888888888888888,
              "#b5de2b"
             ],
             [
              1,
              "#fde725"
             ]
            ],
            "type": "heatmapgl"
           }
          ],
          "histogram": [
           {
            "marker": {
             "line": {
              "color": "white",
              "width": 0.6
             }
            },
            "type": "histogram"
           }
          ],
          "histogram2d": [
           {
            "colorbar": {
             "outlinewidth": 1,
             "tickcolor": "rgb(36,36,36)",
             "ticks": "outside"
            },
            "colorscale": [
             [
              0,
              "#440154"
             ],
             [
              0.1111111111111111,
              "#482878"
             ],
             [
              0.2222222222222222,
              "#3e4989"
             ],
             [
              0.3333333333333333,
              "#31688e"
             ],
             [
              0.4444444444444444,
              "#26828e"
             ],
             [
              0.5555555555555556,
              "#1f9e89"
             ],
             [
              0.6666666666666666,
              "#35b779"
             ],
             [
              0.7777777777777778,
              "#6ece58"
             ],
             [
              0.8888888888888888,
              "#b5de2b"
             ],
             [
              1,
              "#fde725"
             ]
            ],
            "type": "histogram2d"
           }
          ],
          "histogram2dcontour": [
           {
            "colorbar": {
             "outlinewidth": 1,
             "tickcolor": "rgb(36,36,36)",
             "ticks": "outside"
            },
            "colorscale": [
             [
              0,
              "#440154"
             ],
             [
              0.1111111111111111,
              "#482878"
             ],
             [
              0.2222222222222222,
              "#3e4989"
             ],
             [
              0.3333333333333333,
              "#31688e"
             ],
             [
              0.4444444444444444,
              "#26828e"
             ],
             [
              0.5555555555555556,
              "#1f9e89"
             ],
             [
              0.6666666666666666,
              "#35b779"
             ],
             [
              0.7777777777777778,
              "#6ece58"
             ],
             [
              0.8888888888888888,
              "#b5de2b"
             ],
             [
              1,
              "#fde725"
             ]
            ],
            "type": "histogram2dcontour"
           }
          ],
          "mesh3d": [
           {
            "colorbar": {
             "outlinewidth": 1,
             "tickcolor": "rgb(36,36,36)",
             "ticks": "outside"
            },
            "type": "mesh3d"
           }
          ],
          "parcoords": [
           {
            "line": {
             "colorbar": {
              "outlinewidth": 1,
              "tickcolor": "rgb(36,36,36)",
              "ticks": "outside"
             }
            },
            "type": "parcoords"
           }
          ],
          "pie": [
           {
            "automargin": true,
            "type": "pie"
           }
          ],
          "scatter": [
           {
            "fillpattern": {
             "fillmode": "overlay",
             "size": 10,
             "solidity": 0.2
            },
            "type": "scatter"
           }
          ],
          "scatter3d": [
           {
            "line": {
             "colorbar": {
              "outlinewidth": 1,
              "tickcolor": "rgb(36,36,36)",
              "ticks": "outside"
             }
            },
            "marker": {
             "colorbar": {
              "outlinewidth": 1,
              "tickcolor": "rgb(36,36,36)",
              "ticks": "outside"
             }
            },
            "type": "scatter3d"
           }
          ],
          "scattercarpet": [
           {
            "marker": {
             "colorbar": {
              "outlinewidth": 1,
              "tickcolor": "rgb(36,36,36)",
              "ticks": "outside"
             }
            },
            "type": "scattercarpet"
           }
          ],
          "scattergeo": [
           {
            "marker": {
             "colorbar": {
              "outlinewidth": 1,
              "tickcolor": "rgb(36,36,36)",
              "ticks": "outside"
             }
            },
            "type": "scattergeo"
           }
          ],
          "scattergl": [
           {
            "marker": {
             "colorbar": {
              "outlinewidth": 1,
              "tickcolor": "rgb(36,36,36)",
              "ticks": "outside"
             }
            },
            "type": "scattergl"
           }
          ],
          "scattermapbox": [
           {
            "marker": {
             "colorbar": {
              "outlinewidth": 1,
              "tickcolor": "rgb(36,36,36)",
              "ticks": "outside"
             }
            },
            "type": "scattermapbox"
           }
          ],
          "scatterpolar": [
           {
            "marker": {
             "colorbar": {
              "outlinewidth": 1,
              "tickcolor": "rgb(36,36,36)",
              "ticks": "outside"
             }
            },
            "type": "scatterpolar"
           }
          ],
          "scatterpolargl": [
           {
            "marker": {
             "colorbar": {
              "outlinewidth": 1,
              "tickcolor": "rgb(36,36,36)",
              "ticks": "outside"
             }
            },
            "type": "scatterpolargl"
           }
          ],
          "scatterternary": [
           {
            "marker": {
             "colorbar": {
              "outlinewidth": 1,
              "tickcolor": "rgb(36,36,36)",
              "ticks": "outside"
             }
            },
            "type": "scatterternary"
           }
          ],
          "surface": [
           {
            "colorbar": {
             "outlinewidth": 1,
             "tickcolor": "rgb(36,36,36)",
             "ticks": "outside"
            },
            "colorscale": [
             [
              0,
              "#440154"
             ],
             [
              0.1111111111111111,
              "#482878"
             ],
             [
              0.2222222222222222,
              "#3e4989"
             ],
             [
              0.3333333333333333,
              "#31688e"
             ],
             [
              0.4444444444444444,
              "#26828e"
             ],
             [
              0.5555555555555556,
              "#1f9e89"
             ],
             [
              0.6666666666666666,
              "#35b779"
             ],
             [
              0.7777777777777778,
              "#6ece58"
             ],
             [
              0.8888888888888888,
              "#b5de2b"
             ],
             [
              1,
              "#fde725"
             ]
            ],
            "type": "surface"
           }
          ],
          "table": [
           {
            "cells": {
             "fill": {
              "color": "rgb(237,237,237)"
             },
             "line": {
              "color": "white"
             }
            },
            "header": {
             "fill": {
              "color": "rgb(217,217,217)"
             },
             "line": {
              "color": "white"
             }
            },
            "type": "table"
           }
          ]
         },
         "layout": {
          "annotationdefaults": {
           "arrowhead": 0,
           "arrowwidth": 1
          },
          "autotypenumbers": "strict",
          "coloraxis": {
           "colorbar": {
            "outlinewidth": 1,
            "tickcolor": "rgb(36,36,36)",
            "ticks": "outside"
           }
          },
          "colorscale": {
           "diverging": [
            [
             0,
             "rgb(103,0,31)"
            ],
            [
             0.1,
             "rgb(178,24,43)"
            ],
            [
             0.2,
             "rgb(214,96,77)"
            ],
            [
             0.3,
             "rgb(244,165,130)"
            ],
            [
             0.4,
             "rgb(253,219,199)"
            ],
            [
             0.5,
             "rgb(247,247,247)"
            ],
            [
             0.6,
             "rgb(209,229,240)"
            ],
            [
             0.7,
             "rgb(146,197,222)"
            ],
            [
             0.8,
             "rgb(67,147,195)"
            ],
            [
             0.9,
             "rgb(33,102,172)"
            ],
            [
             1,
             "rgb(5,48,97)"
            ]
           ],
           "sequential": [
            [
             0,
             "#440154"
            ],
            [
             0.1111111111111111,
             "#482878"
            ],
            [
             0.2222222222222222,
             "#3e4989"
            ],
            [
             0.3333333333333333,
             "#31688e"
            ],
            [
             0.4444444444444444,
             "#26828e"
            ],
            [
             0.5555555555555556,
             "#1f9e89"
            ],
            [
             0.6666666666666666,
             "#35b779"
            ],
            [
             0.7777777777777778,
             "#6ece58"
            ],
            [
             0.8888888888888888,
             "#b5de2b"
            ],
            [
             1,
             "#fde725"
            ]
           ],
           "sequentialminus": [
            [
             0,
             "#440154"
            ],
            [
             0.1111111111111111,
             "#482878"
            ],
            [
             0.2222222222222222,
             "#3e4989"
            ],
            [
             0.3333333333333333,
             "#31688e"
            ],
            [
             0.4444444444444444,
             "#26828e"
            ],
            [
             0.5555555555555556,
             "#1f9e89"
            ],
            [
             0.6666666666666666,
             "#35b779"
            ],
            [
             0.7777777777777778,
             "#6ece58"
            ],
            [
             0.8888888888888888,
             "#b5de2b"
            ],
            [
             1,
             "#fde725"
            ]
           ]
          },
          "colorway": [
           "#1F77B4",
           "#FF7F0E",
           "#2CA02C",
           "#D62728",
           "#9467BD",
           "#8C564B",
           "#E377C2",
           "#7F7F7F",
           "#BCBD22",
           "#17BECF"
          ],
          "font": {
           "color": "rgb(36,36,36)"
          },
          "geo": {
           "bgcolor": "white",
           "lakecolor": "white",
           "landcolor": "white",
           "showlakes": true,
           "showland": true,
           "subunitcolor": "white"
          },
          "hoverlabel": {
           "align": "left"
          },
          "hovermode": "closest",
          "mapbox": {
           "style": "light"
          },
          "paper_bgcolor": "white",
          "plot_bgcolor": "white",
          "polar": {
           "angularaxis": {
            "gridcolor": "rgb(232,232,232)",
            "linecolor": "rgb(36,36,36)",
            "showgrid": false,
            "showline": true,
            "ticks": "outside"
           },
           "bgcolor": "white",
           "radialaxis": {
            "gridcolor": "rgb(232,232,232)",
            "linecolor": "rgb(36,36,36)",
            "showgrid": false,
            "showline": true,
            "ticks": "outside"
           }
          },
          "scene": {
           "xaxis": {
            "backgroundcolor": "white",
            "gridcolor": "rgb(232,232,232)",
            "gridwidth": 2,
            "linecolor": "rgb(36,36,36)",
            "showbackground": true,
            "showgrid": false,
            "showline": true,
            "ticks": "outside",
            "zeroline": false,
            "zerolinecolor": "rgb(36,36,36)"
           },
           "yaxis": {
            "backgroundcolor": "white",
            "gridcolor": "rgb(232,232,232)",
            "gridwidth": 2,
            "linecolor": "rgb(36,36,36)",
            "showbackground": true,
            "showgrid": false,
            "showline": true,
            "ticks": "outside",
            "zeroline": false,
            "zerolinecolor": "rgb(36,36,36)"
           },
           "zaxis": {
            "backgroundcolor": "white",
            "gridcolor": "rgb(232,232,232)",
            "gridwidth": 2,
            "linecolor": "rgb(36,36,36)",
            "showbackground": true,
            "showgrid": false,
            "showline": true,
            "ticks": "outside",
            "zeroline": false,
            "zerolinecolor": "rgb(36,36,36)"
           }
          },
          "shapedefaults": {
           "fillcolor": "black",
           "line": {
            "width": 0
           },
           "opacity": 0.3
          },
          "ternary": {
           "aaxis": {
            "gridcolor": "rgb(232,232,232)",
            "linecolor": "rgb(36,36,36)",
            "showgrid": false,
            "showline": true,
            "ticks": "outside"
           },
           "baxis": {
            "gridcolor": "rgb(232,232,232)",
            "linecolor": "rgb(36,36,36)",
            "showgrid": false,
            "showline": true,
            "ticks": "outside"
           },
           "bgcolor": "white",
           "caxis": {
            "gridcolor": "rgb(232,232,232)",
            "linecolor": "rgb(36,36,36)",
            "showgrid": false,
            "showline": true,
            "ticks": "outside"
           }
          },
          "title": {
           "x": 0.05
          },
          "xaxis": {
           "automargin": true,
           "gridcolor": "rgb(232,232,232)",
           "linecolor": "rgb(36,36,36)",
           "showgrid": false,
           "showline": true,
           "ticks": "outside",
           "title": {
            "standoff": 15
           },
           "zeroline": false,
           "zerolinecolor": "rgb(36,36,36)"
          },
          "yaxis": {
           "automargin": true,
           "gridcolor": "rgb(232,232,232)",
           "linecolor": "rgb(36,36,36)",
           "showgrid": false,
           "showline": true,
           "ticks": "outside",
           "title": {
            "standoff": 15
           },
           "zeroline": false,
           "zerolinecolor": "rgb(36,36,36)"
          }
         }
        },
        "title": {
         "text": "Length of articles"
        },
        "width": 800,
        "xaxis": {
         "title": {
          "text": "Word Count"
         }
        },
        "yaxis": {
         "title": {
          "text": "Number of articles"
         }
        }
       }
      }
     },
     "metadata": {},
     "output_type": "display_data"
    }
   ],
   "source": [
    "fig = go.Figure(\n",
    "    data=go.Histogram(\n",
    "        x=ARTICLE_LENGTHS[\"COUNT(*)\"],\n",
    "        nbinsx=100\n",
    "    )\n",
    ")\n",
    "\n",
    "mean_length = ARTICLE_LENGTHS['COUNT(*)'].mean()\n",
    "fig.add_vline(x=mean_length, line_color=\"red\", line_width=4, line_dash=\"dash\", annotation_text=f\"Mean: {mean_length:.0f}\")\n",
    "\n",
    "\n",
    "fig.update_layout(\n",
    "    width=800,\n",
    "    height=400,\n",
    "    template=\"simple_white\",\n",
    "    title=\"Length of articles\",\n",
    "    xaxis_title=\"Word Count\",\n",
    "    yaxis_title=\"Number of articles\"\n",
    ")\n",
    "\n",
    "\n",
    "fig.show()\n",
    "fig.write_image(\"article_lengths.png\")"
   ]
  },
  {
   "cell_type": "markdown",
   "metadata": {},
   "source": [
    "Interpretation:\n",
    "* There is are three peaks in article lengths:\n",
    "    * Very short (less than 100 words). These are probably corrections\n",
    "    * Brief communications (around 2500 words). These are a combination of short research communications (brief reports, research letters, etc.) and letters to the editor.\n",
    "    * Original research (full lenght articles, average length ~ 5k words). "
   ]
  },
  {
   "cell_type": "code",
   "execution_count": 6,
   "metadata": {},
   "outputs": [
    {
     "data": {
      "application/vnd.plotly.v1+json": {
       "config": {
        "plotlyServerURL": "https://plot.ly"
       },
       "data": [
        {
         "nbinsx": 40,
         "type": "histogram",
         "x": [
          0,
          0,
          0,
          0,
          0,
          0,
          0,
          0,
          0,
          0,
          0,
          0,
          0,
          0,
          0,
          0,
          0,
          0,
          0,
          0,
          0,
          0,
          0,
          0,
          0,
          0,
          0,
          0,
          0,
          0,
          0,
          0,
          0,
          0,
          0,
          0,
          0,
          0,
          0,
          0,
          0,
          0,
          0,
          0,
          0,
          0,
          0,
          0,
          0,
          0,
          0,
          0,
          0,
          0,
          0,
          0,
          0,
          0,
          0,
          0,
          0,
          0,
          0,
          0,
          0,
          0,
          0,
          0,
          0,
          0,
          0,
          0,
          0,
          0,
          0,
          0,
          0,
          0,
          0,
          0,
          0,
          0,
          0,
          0,
          0,
          0,
          0,
          0,
          0,
          0,
          0,
          0,
          0,
          0,
          0,
          0,
          0,
          0,
          0,
          0,
          0,
          0,
          0,
          0,
          0,
          0,
          0,
          0,
          0,
          0,
          0,
          0,
          0,
          0,
          0,
          0,
          0,
          0,
          0,
          0,
          0,
          0,
          0,
          0,
          0,
          0,
          0,
          0,
          0,
          0,
          0,
          0,
          0,
          0,
          0,
          0,
          0,
          0,
          0,
          0,
          0,
          0,
          0,
          0,
          0,
          0,
          0,
          0,
          0,
          0,
          0,
          0,
          0,
          1,
          5,
          2,
          2,
          1,
          1,
          2,
          1,
          2,
          1,
          0,
          8,
          2,
          2,
          1,
          1,
          2,
          0,
          4,
          0,
          1,
          0,
          3,
          0,
          1,
          0,
          0,
          1,
          1,
          1,
          1,
          8,
          11,
          1,
          2,
          1,
          4,
          3,
          1,
          1,
          2,
          4,
          1,
          1,
          7,
          0,
          1,
          2,
          8,
          1,
          8,
          0,
          6,
          4,
          1,
          1,
          0,
          2,
          2,
          5,
          5,
          2,
          1,
          3,
          3,
          3,
          0,
          0,
          1,
          8,
          1,
          3,
          3,
          8,
          1,
          14,
          0,
          2,
          4,
          1,
          1,
          6,
          7,
          4,
          5,
          2,
          2,
          2,
          0,
          1,
          4,
          0,
          3,
          1,
          0,
          3,
          0,
          1,
          3,
          2,
          1,
          0,
          0,
          1,
          0,
          5,
          3,
          5,
          1,
          5,
          9,
          3,
          8,
          0,
          1,
          8,
          1,
          0,
          16,
          4,
          4,
          8,
          1,
          1,
          7,
          8,
          4,
          0,
          3,
          3,
          0,
          1,
          5,
          37,
          1,
          2,
          30,
          0,
          5,
          0,
          2,
          1,
          2,
          2,
          21,
          1,
          5,
          1,
          2,
          1,
          10,
          2,
          1,
          6,
          2,
          0,
          0,
          8,
          0,
          6,
          2,
          4,
          9,
          5,
          11,
          12,
          10,
          1,
          5,
          3,
          7,
          12,
          33,
          6,
          6,
          5,
          3,
          8,
          19,
          1,
          7,
          5,
          12,
          6,
          0,
          6,
          10,
          0,
          6,
          7,
          1,
          14,
          7,
          3,
          0,
          6,
          14,
          12,
          27,
          14,
          27,
          5,
          4,
          2,
          5,
          2,
          16,
          1,
          5,
          6,
          1,
          6,
          4,
          3,
          3,
          2,
          2,
          2,
          0,
          8,
          4,
          6,
          6,
          6,
          7,
          32,
          3,
          6,
          57,
          3,
          3,
          6,
          0,
          7,
          1,
          8,
          13,
          2,
          1,
          8,
          4,
          4,
          0,
          0,
          21,
          7,
          17,
          10,
          16,
          4,
          1,
          12,
          2,
          5,
          6,
          18,
          45,
          33,
          5,
          0,
          2,
          14,
          46,
          0,
          14,
          5,
          13,
          0,
          17,
          14,
          18,
          16,
          5,
          1,
          7,
          2,
          7,
          0,
          11,
          1,
          31,
          9,
          20,
          50,
          4,
          23,
          6,
          71,
          33,
          17,
          5,
          4,
          1,
          1,
          43,
          1,
          2,
          14,
          1,
          25,
          4,
          11,
          16,
          16,
          3,
          4,
          4,
          1,
          6,
          20,
          1,
          0,
          2,
          10,
          0,
          6,
          0,
          0,
          4,
          11,
          38,
          38,
          0,
          34,
          11,
          0,
          3,
          5,
          5,
          2,
          7,
          53,
          8,
          19,
          25,
          11,
          11,
          28,
          28,
          27,
          17,
          3,
          35,
          2,
          9,
          74,
          2,
          24,
          0,
          23,
          0,
          10,
          11,
          3,
          6,
          10,
          11,
          13,
          3,
          75,
          17,
          4,
          11,
          1,
          9,
          16,
          11,
          11,
          26,
          4,
          7,
          7,
          4,
          6,
          10,
          5,
          51,
          73,
          10,
          10,
          29,
          7,
          86,
          13,
          5,
          7,
          14,
          6,
          4,
          4,
          0,
          3,
          0,
          0,
          0,
          0,
          0,
          0,
          0,
          0,
          0,
          0,
          0,
          0,
          0,
          0,
          0,
          0,
          0,
          0,
          0,
          0,
          0,
          0,
          0,
          0,
          0,
          0,
          0,
          0,
          0,
          0,
          0,
          0,
          0,
          0,
          0,
          0,
          0,
          0,
          0,
          0,
          0,
          0,
          0,
          0,
          0,
          0,
          0,
          0,
          0,
          0,
          0,
          0,
          0,
          0,
          0,
          0,
          0,
          0,
          0,
          0,
          0,
          0,
          0,
          0,
          0,
          0,
          0,
          0,
          0,
          0,
          0,
          0,
          0,
          0,
          0,
          0,
          1,
          0,
          0,
          12,
          1,
          4,
          0,
          0,
          0,
          0,
          5,
          0,
          0,
          0,
          4,
          3,
          0,
          0,
          0,
          0,
          0,
          0,
          0,
          1,
          2,
          14,
          5,
          2,
          0,
          6,
          44,
          5,
          3,
          0,
          0,
          4,
          17,
          2,
          9,
          2,
          12,
          8,
          3,
          7,
          1,
          19,
          4,
          4,
          7,
          2,
          14,
          21,
          19,
          5,
          9,
          13,
          6,
          2,
          0,
          10,
          16,
          3,
          15,
          2,
          5,
          17,
          1,
          0,
          0,
          4,
          6,
          10,
          29,
          0,
          12,
          34,
          7,
          10,
          10,
          16,
          7,
          58,
          9,
          16,
          6,
          20,
          9,
          10,
          9,
          3,
          2,
          13,
          14,
          5,
          4,
          8,
          1,
          14,
          27,
          1,
          14,
          10,
          1,
          22,
          11,
          15,
          3,
          11,
          13,
          23,
          53,
          15,
          6,
          13,
          7,
          8,
          25,
          0,
          31,
          2,
          16,
          28,
          3,
          6,
          13,
          37,
          10,
          6,
          11,
          13,
          16,
          25,
          3,
          27,
          16,
          8,
          67,
          17,
          24,
          8,
          41,
          38,
          15,
          71,
          38,
          34,
          0,
          13,
          10,
          1,
          6,
          24,
          9,
          22,
          5,
          9,
          3,
          4,
          14,
          28,
          21,
          3,
          8,
          47,
          15,
          16,
          10,
          8,
          0,
          14,
          14,
          47,
          7,
          31,
          18,
          59,
          31,
          25,
          38,
          23,
          9,
          34,
          9,
          61,
          3,
          16,
          25,
          12,
          21,
          12,
          29,
          291,
          10,
          6,
          4,
          11,
          12,
          5,
          27,
          22,
          22,
          30,
          15,
          6,
          22,
          91,
          50,
          38,
          137,
          11,
          3,
          21,
          7,
          0,
          13,
          10,
          5,
          6,
          14,
          37,
          11,
          16,
          77,
          9,
          42,
          146,
          7,
          74,
          8,
          30,
          33,
          10,
          18,
          17,
          45,
          13,
          16,
          7,
          100,
          38,
          32,
          28,
          5,
          20,
          30,
          21,
          15,
          28,
          15,
          14,
          21,
          50,
          65,
          9,
          87,
          137,
          32,
          25,
          39,
          32,
          6,
          14,
          12,
          18,
          9,
          13,
          47,
          12,
          166,
          46,
          21,
          8,
          22,
          6,
          3,
          67,
          22,
          10,
          22,
          30,
          7,
          1,
          2,
          3,
          168,
          33,
          5,
          6,
          30,
          55,
          22,
          10,
          23,
          5,
          538,
          10,
          52,
          24,
          395,
          26,
          331,
          12,
          12,
          116,
          14,
          65,
          201,
          39,
          36,
          63,
          75,
          51,
          20,
          11,
          12,
          66,
          5,
          12,
          51,
          13,
          225,
          89,
          54,
          10,
          16,
          52,
          52,
          27,
          11,
          31,
          221,
          18,
          12,
          8,
          711,
          151,
          42,
          22,
          11,
          6,
          104,
          4,
          55,
          55,
          44,
          19,
          38,
          29,
          6,
          63,
          84,
          23,
          39,
          7,
          48,
          41,
          7,
          55,
          36,
          529,
          69,
          25,
          11,
          32,
          36,
          11,
          66,
          0,
          20,
          41,
          110,
          57,
          90,
          100,
          27,
          450,
          80,
          65,
          259,
          43,
          13,
          130,
          107,
          36,
          21,
          58,
          125,
          7,
          16,
          10,
          147,
          63,
          63,
          97,
          26,
          28,
          130,
          28,
          73,
          129,
          43,
          67,
          354,
          51,
          49,
          46,
          16,
          21,
          24,
          174,
          36,
          62,
          24,
          21,
          94,
          284,
          49,
          35,
          14,
          156,
          57,
          89,
          14,
          95,
          166,
          78,
          216,
          73,
          47,
          77,
          70,
          140,
          2,
          37,
          20,
          17,
          142,
          43,
          69,
          42,
          58,
          470,
          59,
          25,
          80,
          151,
          13,
          71,
          8,
          72,
          47,
          23,
          39,
          18,
          21,
          61,
          42,
          45,
          14,
          23,
          125,
          15,
          63,
          102,
          365,
          33,
          81,
          15,
          45,
          18,
          41,
          2,
          82,
          24,
          54,
          5,
          8,
          8,
          40,
          34,
          11,
          11,
          172,
          50,
          12,
          209,
          23,
          2,
          31,
          57,
          80,
          13,
          76,
          63,
          39,
          61,
          46,
          217,
          42,
          36,
          85,
          36,
          29,
          22,
          57,
          220,
          54,
          63,
          82,
          38,
          55,
          66,
          59,
          2,
          107,
          63,
          711,
          14,
          16,
          70,
          5,
          56,
          47,
          21,
          65,
          22,
          5,
          33,
          11,
          6,
          16,
          75,
          36,
          15,
          4,
          514,
          16,
          49,
          55,
          243,
          68,
          2,
          20,
          8,
          219,
          7,
          69,
          156,
          34,
          134,
          24,
          57,
          15,
          133,
          3,
          16,
          60,
          8,
          27,
          9,
          37,
          77,
          36,
          110,
          57,
          68,
          46,
          20,
          60,
          25,
          11,
          186,
          45,
          73,
          111,
          84,
          39,
          18,
          36,
          11,
          55,
          289,
          35,
          8,
          64,
          25,
          103,
          11,
          160,
          61,
          36,
          35,
          14,
          49
         ]
        }
       ],
       "layout": {
        "height": 400,
        "template": {
         "data": {
          "bar": [
           {
            "error_x": {
             "color": "rgb(36,36,36)"
            },
            "error_y": {
             "color": "rgb(36,36,36)"
            },
            "marker": {
             "line": {
              "color": "white",
              "width": 0.5
             },
             "pattern": {
              "fillmode": "overlay",
              "size": 10,
              "solidity": 0.2
             }
            },
            "type": "bar"
           }
          ],
          "barpolar": [
           {
            "marker": {
             "line": {
              "color": "white",
              "width": 0.5
             },
             "pattern": {
              "fillmode": "overlay",
              "size": 10,
              "solidity": 0.2
             }
            },
            "type": "barpolar"
           }
          ],
          "carpet": [
           {
            "aaxis": {
             "endlinecolor": "rgb(36,36,36)",
             "gridcolor": "white",
             "linecolor": "white",
             "minorgridcolor": "white",
             "startlinecolor": "rgb(36,36,36)"
            },
            "baxis": {
             "endlinecolor": "rgb(36,36,36)",
             "gridcolor": "white",
             "linecolor": "white",
             "minorgridcolor": "white",
             "startlinecolor": "rgb(36,36,36)"
            },
            "type": "carpet"
           }
          ],
          "choropleth": [
           {
            "colorbar": {
             "outlinewidth": 1,
             "tickcolor": "rgb(36,36,36)",
             "ticks": "outside"
            },
            "type": "choropleth"
           }
          ],
          "contour": [
           {
            "colorbar": {
             "outlinewidth": 1,
             "tickcolor": "rgb(36,36,36)",
             "ticks": "outside"
            },
            "colorscale": [
             [
              0,
              "#440154"
             ],
             [
              0.1111111111111111,
              "#482878"
             ],
             [
              0.2222222222222222,
              "#3e4989"
             ],
             [
              0.3333333333333333,
              "#31688e"
             ],
             [
              0.4444444444444444,
              "#26828e"
             ],
             [
              0.5555555555555556,
              "#1f9e89"
             ],
             [
              0.6666666666666666,
              "#35b779"
             ],
             [
              0.7777777777777778,
              "#6ece58"
             ],
             [
              0.8888888888888888,
              "#b5de2b"
             ],
             [
              1,
              "#fde725"
             ]
            ],
            "type": "contour"
           }
          ],
          "contourcarpet": [
           {
            "colorbar": {
             "outlinewidth": 1,
             "tickcolor": "rgb(36,36,36)",
             "ticks": "outside"
            },
            "type": "contourcarpet"
           }
          ],
          "heatmap": [
           {
            "colorbar": {
             "outlinewidth": 1,
             "tickcolor": "rgb(36,36,36)",
             "ticks": "outside"
            },
            "colorscale": [
             [
              0,
              "#440154"
             ],
             [
              0.1111111111111111,
              "#482878"
             ],
             [
              0.2222222222222222,
              "#3e4989"
             ],
             [
              0.3333333333333333,
              "#31688e"
             ],
             [
              0.4444444444444444,
              "#26828e"
             ],
             [
              0.5555555555555556,
              "#1f9e89"
             ],
             [
              0.6666666666666666,
              "#35b779"
             ],
             [
              0.7777777777777778,
              "#6ece58"
             ],
             [
              0.8888888888888888,
              "#b5de2b"
             ],
             [
              1,
              "#fde725"
             ]
            ],
            "type": "heatmap"
           }
          ],
          "heatmapgl": [
           {
            "colorbar": {
             "outlinewidth": 1,
             "tickcolor": "rgb(36,36,36)",
             "ticks": "outside"
            },
            "colorscale": [
             [
              0,
              "#440154"
             ],
             [
              0.1111111111111111,
              "#482878"
             ],
             [
              0.2222222222222222,
              "#3e4989"
             ],
             [
              0.3333333333333333,
              "#31688e"
             ],
             [
              0.4444444444444444,
              "#26828e"
             ],
             [
              0.5555555555555556,
              "#1f9e89"
             ],
             [
              0.6666666666666666,
              "#35b779"
             ],
             [
              0.7777777777777778,
              "#6ece58"
             ],
             [
              0.8888888888888888,
              "#b5de2b"
             ],
             [
              1,
              "#fde725"
             ]
            ],
            "type": "heatmapgl"
           }
          ],
          "histogram": [
           {
            "marker": {
             "line": {
              "color": "white",
              "width": 0.6
             }
            },
            "type": "histogram"
           }
          ],
          "histogram2d": [
           {
            "colorbar": {
             "outlinewidth": 1,
             "tickcolor": "rgb(36,36,36)",
             "ticks": "outside"
            },
            "colorscale": [
             [
              0,
              "#440154"
             ],
             [
              0.1111111111111111,
              "#482878"
             ],
             [
              0.2222222222222222,
              "#3e4989"
             ],
             [
              0.3333333333333333,
              "#31688e"
             ],
             [
              0.4444444444444444,
              "#26828e"
             ],
             [
              0.5555555555555556,
              "#1f9e89"
             ],
             [
              0.6666666666666666,
              "#35b779"
             ],
             [
              0.7777777777777778,
              "#6ece58"
             ],
             [
              0.8888888888888888,
              "#b5de2b"
             ],
             [
              1,
              "#fde725"
             ]
            ],
            "type": "histogram2d"
           }
          ],
          "histogram2dcontour": [
           {
            "colorbar": {
             "outlinewidth": 1,
             "tickcolor": "rgb(36,36,36)",
             "ticks": "outside"
            },
            "colorscale": [
             [
              0,
              "#440154"
             ],
             [
              0.1111111111111111,
              "#482878"
             ],
             [
              0.2222222222222222,
              "#3e4989"
             ],
             [
              0.3333333333333333,
              "#31688e"
             ],
             [
              0.4444444444444444,
              "#26828e"
             ],
             [
              0.5555555555555556,
              "#1f9e89"
             ],
             [
              0.6666666666666666,
              "#35b779"
             ],
             [
              0.7777777777777778,
              "#6ece58"
             ],
             [
              0.8888888888888888,
              "#b5de2b"
             ],
             [
              1,
              "#fde725"
             ]
            ],
            "type": "histogram2dcontour"
           }
          ],
          "mesh3d": [
           {
            "colorbar": {
             "outlinewidth": 1,
             "tickcolor": "rgb(36,36,36)",
             "ticks": "outside"
            },
            "type": "mesh3d"
           }
          ],
          "parcoords": [
           {
            "line": {
             "colorbar": {
              "outlinewidth": 1,
              "tickcolor": "rgb(36,36,36)",
              "ticks": "outside"
             }
            },
            "type": "parcoords"
           }
          ],
          "pie": [
           {
            "automargin": true,
            "type": "pie"
           }
          ],
          "scatter": [
           {
            "fillpattern": {
             "fillmode": "overlay",
             "size": 10,
             "solidity": 0.2
            },
            "type": "scatter"
           }
          ],
          "scatter3d": [
           {
            "line": {
             "colorbar": {
              "outlinewidth": 1,
              "tickcolor": "rgb(36,36,36)",
              "ticks": "outside"
             }
            },
            "marker": {
             "colorbar": {
              "outlinewidth": 1,
              "tickcolor": "rgb(36,36,36)",
              "ticks": "outside"
             }
            },
            "type": "scatter3d"
           }
          ],
          "scattercarpet": [
           {
            "marker": {
             "colorbar": {
              "outlinewidth": 1,
              "tickcolor": "rgb(36,36,36)",
              "ticks": "outside"
             }
            },
            "type": "scattercarpet"
           }
          ],
          "scattergeo": [
           {
            "marker": {
             "colorbar": {
              "outlinewidth": 1,
              "tickcolor": "rgb(36,36,36)",
              "ticks": "outside"
             }
            },
            "type": "scattergeo"
           }
          ],
          "scattergl": [
           {
            "marker": {
             "colorbar": {
              "outlinewidth": 1,
              "tickcolor": "rgb(36,36,36)",
              "ticks": "outside"
             }
            },
            "type": "scattergl"
           }
          ],
          "scattermapbox": [
           {
            "marker": {
             "colorbar": {
              "outlinewidth": 1,
              "tickcolor": "rgb(36,36,36)",
              "ticks": "outside"
             }
            },
            "type": "scattermapbox"
           }
          ],
          "scatterpolar": [
           {
            "marker": {
             "colorbar": {
              "outlinewidth": 1,
              "tickcolor": "rgb(36,36,36)",
              "ticks": "outside"
             }
            },
            "type": "scatterpolar"
           }
          ],
          "scatterpolargl": [
           {
            "marker": {
             "colorbar": {
              "outlinewidth": 1,
              "tickcolor": "rgb(36,36,36)",
              "ticks": "outside"
             }
            },
            "type": "scatterpolargl"
           }
          ],
          "scatterternary": [
           {
            "marker": {
             "colorbar": {
              "outlinewidth": 1,
              "tickcolor": "rgb(36,36,36)",
              "ticks": "outside"
             }
            },
            "type": "scatterternary"
           }
          ],
          "surface": [
           {
            "colorbar": {
             "outlinewidth": 1,
             "tickcolor": "rgb(36,36,36)",
             "ticks": "outside"
            },
            "colorscale": [
             [
              0,
              "#440154"
             ],
             [
              0.1111111111111111,
              "#482878"
             ],
             [
              0.2222222222222222,
              "#3e4989"
             ],
             [
              0.3333333333333333,
              "#31688e"
             ],
             [
              0.4444444444444444,
              "#26828e"
             ],
             [
              0.5555555555555556,
              "#1f9e89"
             ],
             [
              0.6666666666666666,
              "#35b779"
             ],
             [
              0.7777777777777778,
              "#6ece58"
             ],
             [
              0.8888888888888888,
              "#b5de2b"
             ],
             [
              1,
              "#fde725"
             ]
            ],
            "type": "surface"
           }
          ],
          "table": [
           {
            "cells": {
             "fill": {
              "color": "rgb(237,237,237)"
             },
             "line": {
              "color": "white"
             }
            },
            "header": {
             "fill": {
              "color": "rgb(217,217,217)"
             },
             "line": {
              "color": "white"
             }
            },
            "type": "table"
           }
          ]
         },
         "layout": {
          "annotationdefaults": {
           "arrowhead": 0,
           "arrowwidth": 1
          },
          "autotypenumbers": "strict",
          "coloraxis": {
           "colorbar": {
            "outlinewidth": 1,
            "tickcolor": "rgb(36,36,36)",
            "ticks": "outside"
           }
          },
          "colorscale": {
           "diverging": [
            [
             0,
             "rgb(103,0,31)"
            ],
            [
             0.1,
             "rgb(178,24,43)"
            ],
            [
             0.2,
             "rgb(214,96,77)"
            ],
            [
             0.3,
             "rgb(244,165,130)"
            ],
            [
             0.4,
             "rgb(253,219,199)"
            ],
            [
             0.5,
             "rgb(247,247,247)"
            ],
            [
             0.6,
             "rgb(209,229,240)"
            ],
            [
             0.7,
             "rgb(146,197,222)"
            ],
            [
             0.8,
             "rgb(67,147,195)"
            ],
            [
             0.9,
             "rgb(33,102,172)"
            ],
            [
             1,
             "rgb(5,48,97)"
            ]
           ],
           "sequential": [
            [
             0,
             "#440154"
            ],
            [
             0.1111111111111111,
             "#482878"
            ],
            [
             0.2222222222222222,
             "#3e4989"
            ],
            [
             0.3333333333333333,
             "#31688e"
            ],
            [
             0.4444444444444444,
             "#26828e"
            ],
            [
             0.5555555555555556,
             "#1f9e89"
            ],
            [
             0.6666666666666666,
             "#35b779"
            ],
            [
             0.7777777777777778,
             "#6ece58"
            ],
            [
             0.8888888888888888,
             "#b5de2b"
            ],
            [
             1,
             "#fde725"
            ]
           ],
           "sequentialminus": [
            [
             0,
             "#440154"
            ],
            [
             0.1111111111111111,
             "#482878"
            ],
            [
             0.2222222222222222,
             "#3e4989"
            ],
            [
             0.3333333333333333,
             "#31688e"
            ],
            [
             0.4444444444444444,
             "#26828e"
            ],
            [
             0.5555555555555556,
             "#1f9e89"
            ],
            [
             0.6666666666666666,
             "#35b779"
            ],
            [
             0.7777777777777778,
             "#6ece58"
            ],
            [
             0.8888888888888888,
             "#b5de2b"
            ],
            [
             1,
             "#fde725"
            ]
           ]
          },
          "colorway": [
           "#1F77B4",
           "#FF7F0E",
           "#2CA02C",
           "#D62728",
           "#9467BD",
           "#8C564B",
           "#E377C2",
           "#7F7F7F",
           "#BCBD22",
           "#17BECF"
          ],
          "font": {
           "color": "rgb(36,36,36)"
          },
          "geo": {
           "bgcolor": "white",
           "lakecolor": "white",
           "landcolor": "white",
           "showlakes": true,
           "showland": true,
           "subunitcolor": "white"
          },
          "hoverlabel": {
           "align": "left"
          },
          "hovermode": "closest",
          "mapbox": {
           "style": "light"
          },
          "paper_bgcolor": "white",
          "plot_bgcolor": "white",
          "polar": {
           "angularaxis": {
            "gridcolor": "rgb(232,232,232)",
            "linecolor": "rgb(36,36,36)",
            "showgrid": false,
            "showline": true,
            "ticks": "outside"
           },
           "bgcolor": "white",
           "radialaxis": {
            "gridcolor": "rgb(232,232,232)",
            "linecolor": "rgb(36,36,36)",
            "showgrid": false,
            "showline": true,
            "ticks": "outside"
           }
          },
          "scene": {
           "xaxis": {
            "backgroundcolor": "white",
            "gridcolor": "rgb(232,232,232)",
            "gridwidth": 2,
            "linecolor": "rgb(36,36,36)",
            "showbackground": true,
            "showgrid": false,
            "showline": true,
            "ticks": "outside",
            "zeroline": false,
            "zerolinecolor": "rgb(36,36,36)"
           },
           "yaxis": {
            "backgroundcolor": "white",
            "gridcolor": "rgb(232,232,232)",
            "gridwidth": 2,
            "linecolor": "rgb(36,36,36)",
            "showbackground": true,
            "showgrid": false,
            "showline": true,
            "ticks": "outside",
            "zeroline": false,
            "zerolinecolor": "rgb(36,36,36)"
           },
           "zaxis": {
            "backgroundcolor": "white",
            "gridcolor": "rgb(232,232,232)",
            "gridwidth": 2,
            "linecolor": "rgb(36,36,36)",
            "showbackground": true,
            "showgrid": false,
            "showline": true,
            "ticks": "outside",
            "zeroline": false,
            "zerolinecolor": "rgb(36,36,36)"
           }
          },
          "shapedefaults": {
           "fillcolor": "black",
           "line": {
            "width": 0
           },
           "opacity": 0.3
          },
          "ternary": {
           "aaxis": {
            "gridcolor": "rgb(232,232,232)",
            "linecolor": "rgb(36,36,36)",
            "showgrid": false,
            "showline": true,
            "ticks": "outside"
           },
           "baxis": {
            "gridcolor": "rgb(232,232,232)",
            "linecolor": "rgb(36,36,36)",
            "showgrid": false,
            "showline": true,
            "ticks": "outside"
           },
           "bgcolor": "white",
           "caxis": {
            "gridcolor": "rgb(232,232,232)",
            "linecolor": "rgb(36,36,36)",
            "showgrid": false,
            "showline": true,
            "ticks": "outside"
           }
          },
          "title": {
           "x": 0.05
          },
          "xaxis": {
           "automargin": true,
           "gridcolor": "rgb(232,232,232)",
           "linecolor": "rgb(36,36,36)",
           "showgrid": false,
           "showline": true,
           "ticks": "outside",
           "title": {
            "standoff": 15
           },
           "zeroline": false,
           "zerolinecolor": "rgb(36,36,36)"
          },
          "yaxis": {
           "automargin": true,
           "gridcolor": "rgb(232,232,232)",
           "linecolor": "rgb(36,36,36)",
           "showgrid": false,
           "showline": true,
           "ticks": "outside",
           "title": {
            "standoff": 15
           },
           "zeroline": false,
           "zerolinecolor": "rgb(36,36,36)"
          }
         }
        },
        "title": {
         "text": "Number of citations per article"
        },
        "width": 800,
        "xaxis": {
         "title": {
          "text": "Citation Count"
         }
        },
        "yaxis": {
         "title": {
          "text": "Number of articles"
         },
         "type": "log"
        }
       }
      }
     },
     "metadata": {},
     "output_type": "display_data"
    }
   ],
   "source": [
    "# Histogram of citation counts\n",
    "fig = go.Figure(\n",
    "    data=go.Histogram(\n",
    "        x=ARTICLES[\"citation_count\"],\n",
    "        nbinsx=40\n",
    "    )\n",
    ")\n",
    "\n",
    "fig.update_yaxes(type=\"log\")\n",
    "\n",
    "fig.update_layout(\n",
    "    width=800,\n",
    "    height=400,\n",
    "    template=\"simple_white\",\n",
    "    title=\"Number of citations per article\",\n",
    "    xaxis_title=\"Citation Count\",\n",
    "    yaxis_title=\"Number of articles\"\n",
    ")\n",
    "\n",
    "fig.show()\n",
    "fig.write_image(\"citation_counts.png\")"
   ]
  },
  {
   "cell_type": "markdown",
   "metadata": {},
   "source": [
    "Interpretations:\n",
    "* Most articles aren't cited\n",
    "* The rest of the distribution seems to follow a power law\n",
    "* There are a few highly cited articles"
   ]
  },
  {
   "cell_type": "markdown",
   "metadata": {},
   "source": []
  }
 ],
 "metadata": {
  "kernelspec": {
   "display_name": "exploratory_text",
   "language": "python",
   "name": "python3"
  },
  "language_info": {
   "codemirror_mode": {
    "name": "ipython",
    "version": 3
   },
   "file_extension": ".py",
   "mimetype": "text/x-python",
   "name": "python",
   "nbconvert_exporter": "python",
   "pygments_lexer": "ipython3",
   "version": "3.11.8"
  }
 },
 "nbformat": 4,
 "nbformat_minor": 2
}
